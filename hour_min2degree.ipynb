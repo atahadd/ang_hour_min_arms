{
 "cells": [
  {
   "cell_type": "markdown",
   "metadata": {},
   "source": [
    "# propose: angle between hour and minute arms in a michanical clock\n"
   ]
  },
  {
   "cell_type": "code",
   "execution_count": 2,
   "metadata": {},
   "outputs": [],
   "source": [
    "class Hour_minute_to_degree:\n",
    "    def __init__(self, hour: float, minute: float):\n",
    "        self.hour = hour\n",
    "        self.minute = minute\n",
    "\n",
    "        self.angle_arms = self.hour_min_angle(hour, minute)\n",
    "\n",
    "    def hour2degree(self, hour: float) -> float:\n",
    "        return hour*30\n",
    "\n",
    "    def min2degree(self, minute: float) -> float:\n",
    "        return minute*6\n",
    "\n",
    "\n",
    "    def hour_min_angle(self, hour, minute):\n",
    "        dh = minute / 60\n",
    "        deg_hour = self.hour2degree(hour+dh)\n",
    "        deg_min = self.min2degree(minute)\n",
    "        self.hour_ang = deg_hour\n",
    "        self.min_angle = deg_min\n",
    "\n",
    "        diff_degree = abs(deg_hour - deg_min)\n",
    "        if diff_degree>180:\n",
    "            diff_degree = 180 - diff_degree\n",
    "\n",
    "\n",
    "        return diff_degree"
   ]
  },
  {
   "cell_type": "code",
   "execution_count": 3,
   "metadata": {},
   "outputs": [
    {
     "name": "stdout",
     "output_type": "stream",
     "text": [
      "7.5\n"
     ]
    }
   ],
   "source": [
    "hour = 3\n",
    "minute = 15\n",
    "\n",
    "a = Hour_minute_to_degree(hour, minute)\n",
    "print(a.angle_arms)"
   ]
  },
  {
   "cell_type": "code",
   "execution_count": 4,
   "metadata": {},
   "outputs": [
    {
     "name": "stdout",
     "output_type": "stream",
     "text": [
      "97.5\n"
     ]
    }
   ],
   "source": [
    "print(a.hour_ang)"
   ]
  }
 ],
 "metadata": {
  "kernelspec": {
   "display_name": "perag2408",
   "language": "python",
   "name": "python3"
  },
  "language_info": {
   "codemirror_mode": {
    "name": "ipython",
    "version": 3
   },
   "file_extension": ".py",
   "mimetype": "text/x-python",
   "name": "python",
   "nbconvert_exporter": "python",
   "pygments_lexer": "ipython3",
   "version": "3.10.9"
  }
 },
 "nbformat": 4,
 "nbformat_minor": 2
}
